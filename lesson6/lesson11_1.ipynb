{
 "cells": [
  {
   "cell_type": "code",
   "execution_count": null,
   "metadata": {},
   "outputs": [],
   "source": [
    "from pydantic import BaseModel, Field\n",
    "Class Record(BaseModel):\n",
    "    公司名稱:str = Field(alais='Name_Ins')\n",
    "    登記編號:str = Field(alais='No')\n",
    "    地址:str = Field(alais='')\n"
   ]
  },
  {
   "cell_type": "code",
   "execution_count": null,
   "metadata": {},
   "outputs": [],
   "source": [
    "import json\n",
    "form pprint import pprint\n",
    "with open ('新北市食品工廠清冊.json', encoding='utf-8')as file:\n",
    "    json_content:str = "
   ]
  }
 ],
 "metadata": {
  "language_info": {
   "name": "python"
  }
 },
 "nbformat": 4,
 "nbformat_minor": 2
}
