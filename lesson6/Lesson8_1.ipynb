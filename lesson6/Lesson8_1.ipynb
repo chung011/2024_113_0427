{
 "cells": [
  {
   "cell_type": "code",
   "execution_count": null,
   "metadata": {},
   "outputs": [],
   "source": []
  },
  {
   "cell_type": "code",
   "execution_count": 19,
   "metadata": {},
   "outputs": [
    {
     "ename": "SyntaxError",
     "evalue": "unterminated string literal (detected at line 14) (1286589220.py, line 14)",
     "output_type": "error",
     "traceback": [
      "\u001b[0;36m  Cell \u001b[0;32mIn[19], line 14\u001b[0;36m\u001b[0m\n\u001b[0;31m    return f\"這是Student的實體,我的名字是{self.name}\",我的分數是{self.scores}\"\u001b[0m\n\u001b[0m                                                              ^\u001b[0m\n\u001b[0;31mSyntaxError\u001b[0m\u001b[0;31m:\u001b[0m unterminated string literal (detected at line 14)\n"
     ]
    }
   ],
   "source": [
    "\n",
    "        return f\"這是Student的實體,我的名字是{self.name}\",我的分數是{self.scores}\"\n",
    "            \n",
    "sl = Student(\"amber\",96)\n",
    "print(type(s1))\n",
    "print(s1.name)\n",
    "print(s1.scores)class Person():\n",
    "    def __init__(self,n:str):\n",
    "        self.name = n\n",
    "        \n",
    "    def __repr__(self):        \n",
    "        return f\"這是Person的實體,我的名字是{self.name}\"\n",
    "    \n",
    "class Student(Person):\n",
    "    def __init__(self,name:str,scores:int):\n",
    "        super().__init__(name)\n",
    "        self.scores = scores\n",
    "    \n",
    "    def __repr__(self):        \n",
    "print(s1)\n",
    "        "
   ]
  },
  {
   "cell_type": "code",
   "execution_count": 22,
   "metadata": {},
   "outputs": [
    {
     "name": "stdout",
     "output_type": "stream",
     "text": [
      "<class '__main__.Student'>\n",
      "這是Student的實體\n",
      "我的姓名是(self.name)\n",
      "國文(self.chinese)\n",
      "英文(self.english)\n",
      "數學(self.math)\n",
      " amber\n",
      "這是Student的實體\n",
      "我的姓名是(self.name)\n",
      "國文(self.chinese)\n",
      "英文(self.english)\n",
      "數學(self.math)\n",
      "\n"
     ]
    }
   ],
   "source": [
    "class Person():\n",
    "    def __init__(self,n:str):\n",
    "        self.name = n\n",
    "        \n",
    "    def __repr__(self):        \n",
    "        return f\"這是Person的實體,我的名字是{self.name}\"\n",
    "    \n",
    "class Student(Person):\n",
    "    def __init__(self,name:str,chinese:int,english:int,math:int):\n",
    "        super().__init__(name)\n",
    "        self.chinese = chinese\n",
    "        self.english = english\n",
    "        self.math = math\n",
    "        \n",
    "    def __repr__(self):\n",
    "        message = \"\"\n",
    "        message += \"這是Student的實體\\n\"\n",
    "        message += f\"我的姓名是(self.name)\\n\"    \n",
    "        message += f\"國文(self.chinese)\\n\"\n",
    "        message += f\"英文(self.english)\\n\"\n",
    "        message += f\"數學(self.math)\\n\"\n",
    "        return message\n",
    "    \n",
    "s1 = Student(\"amber\",96,89,92) \n",
    "print(type(s1))    \n",
    "print(s1,name) \n",
    "print(s1)\n",
    "        \n",
    "        \n",
    "   "
   ]
  },
  {
   "cell_type": "code",
   "execution_count": 27,
   "metadata": {},
   "outputs": [
    {
     "name": "stdout",
     "output_type": "stream",
     "text": [
      "<class '__main__.Student'>\n",
      "徐國堂\n",
      "總分:277\n",
      "平均:92.33\n",
      "這是Student的實體\n",
      "我的姓名是徐國堂\n",
      "國文96\n",
      "英文89\n",
      "數學92\n",
      "\n"
     ]
    }
   ],
   "source": [
    "class Person():\n",
    "    def __init__(self,n:str):\n",
    "        self.name = n\n",
    "        \n",
    "    def __repr__(self):        \n",
    "        return f\"這是Person的實體,我的名字是{self.name}\"\n",
    "    \n",
    "class Student(Person):\n",
    "    def __init__(self,name:str,chinese:int,english:int,math:int):\n",
    "        super().__init__(name)\n",
    "        self.__chinese = chinese\n",
    "        self.__english = english\n",
    "        self.__math = math\n",
    "        \n",
    "    @property\n",
    "    def chinese(self):\n",
    "        return self.__chinese\n",
    "    \n",
    "    @property\n",
    "    def english(self):\n",
    "        return self.__english\n",
    "    \n",
    "    @property\n",
    "    def math(self):\n",
    "        return self.__math\n",
    "    \n",
    "    def __repr__(self):\n",
    "        message = \"\"\n",
    "        message += \"這是Student的實體\\n\"\n",
    "        message += f\"我的姓名是{self.name}\\n\"    \n",
    "        message += f\"國文{self.chinese}\\n\"\n",
    "        message += f\"英文{self.english}\\n\"\n",
    "        message += f\"數學{self.math}\\n\"\n",
    "        return message\n",
    "    \n",
    "    def sum(self) -> int:\n",
    "        return self.chinese + self.english + self.math \n",
    "    \n",
    "    def average(self) -> float:\n",
    "        return self.sum() / 3\n",
    "    \n",
    "s1 = Student(\"徐國堂\",96,89,92)\n",
    "print(type(s1))\n",
    "print(s1.name)\n",
    "print(f\"總分:{s1.sum()}\")\n",
    "print(f\"平均:{round(s1.average(),ndigits=2)}\")\n",
    "print(s1)\n",
    "    \n"
   ]
  },
  {
   "cell_type": "code",
   "execution_count": null,
   "metadata": {},
   "outputs": [],
   "source": []
  },
  {
   "cell_type": "code",
   "execution_count": null,
   "metadata": {},
   "outputs": [],
   "source": []
  }
 ],
 "metadata": {
  "kernelspec": {
   "display_name": "Python 3",
   "language": "python",
   "name": "python3"
  },
  "language_info": {
   "codemirror_mode": {
    "name": "ipython",
    "version": 3
   },
   "file_extension": ".py",
   "mimetype": "text/x-python",
   "name": "python",
   "nbconvert_exporter": "python",
   "pygments_lexer": "ipython3",
   "version": "3.10.14"
  }
 },
 "nbformat": 4,
 "nbformat_minor": 2
}
