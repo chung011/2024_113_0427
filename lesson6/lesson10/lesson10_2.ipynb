{
 "cells": [
  {
   "cell_type": "code",
   "execution_count": null,
   "metadata": {},
   "outputs": [],
   "source": []
  },
  {
   "cell_type": "code",
   "execution_count": 3,
   "metadata": {},
   "outputs": [],
   "source": [
    "from pydantic import BaseModel\n",
    "\n",
    "class Person(BaseModel):\n",
    "    first_name:str\n",
    "    last_name:str\n",
    "    age:int\n",
    "    "
   ]
  },
  {
   "cell_type": "code",
   "execution_count": 6,
   "metadata": {},
   "outputs": [
    {
     "data": {
      "text/plain": [
       "Person(first_name='John', last_name='smith', age=42)"
      ]
     },
     "execution_count": 6,
     "metadata": {},
     "output_type": "execute_result"
    }
   ],
   "source": [
    "p1 = Person(first_name='John',last_name='smith', age='42')\n",
    "p1"
   ]
  },
  {
   "cell_type": "code",
   "execution_count": 7,
   "metadata": {},
   "outputs": [
    {
     "name": "stdout",
     "output_type": "stream",
     "text": [
      "1 validation error for Person\n",
      "age\n",
      "  Input should be a valid integer, unable to parse string as an integer [type=int_parsing, input_value='42a', input_type=str]\n",
      "    For further information visit https://errors.pydantic.dev/2.7/v/int_parsing\n"
     ]
    }
   ],
   "source": [
    "try:\n",
    "    p3 = Person(first_name='John', last_name='Smith', age='42a')\n",
    "    print(p3)\n",
    "except Exception as e:\n",
    "    print(e)"
   ]
  },
  {
   "cell_type": "code",
   "execution_count": 8,
   "metadata": {},
   "outputs": [
    {
     "data": {
      "text/plain": [
       "Person(first_name='John', last_name='Smith', age=42)"
      ]
     },
     "execution_count": 8,
     "metadata": {},
     "output_type": "execute_result"
    }
   ],
   "source": [
    "data:dict ={\n",
    "    \"first_name\": \"John\",\n",
    "    \"last_name\":\"Smith\",\n",
    "    \"age\":42\n",
    "}\n",
    "\n",
    "p4 = Person.model_validate(data)\n",
    "p4"
   ]
  },
  {
   "cell_type": "code",
   "execution_count": 14,
   "metadata": {},
   "outputs": [
    {
     "data": {
      "text/plain": [
       "Person(first_name='John', last_name='Smith', age=42)"
      ]
     },
     "execution_count": 14,
     "metadata": {},
     "output_type": "execute_result"
    }
   ],
   "source": [
    "data_json:str = '''\n",
    "{\n",
    "    \"first_name\": \"John\",\n",
    "    \"last_name\": \"Smith\",\n",
    "    \"age\":42\n",
    "}\n",
    "'''\n",
    "p5 = Person.model_validate_json(data_json)\n",
    "p5"
   ]
  },
  {
   "cell_type": "code",
   "execution_count": 16,
   "metadata": {},
   "outputs": [
    {
     "data": {
      "text/plain": [
       "Person(first_name='John', last_name=None, age=18)"
      ]
     },
     "execution_count": 16,
     "metadata": {},
     "output_type": "execute_result"
    }
   ],
   "source": [
    "class Person(BaseModel):\n",
    "    first_name:str #require\n",
    "    last_name:str | None = None #optional\n",
    "    age:int = 18 #optional\n",
    "    \n",
    "data_json:str = '''\n",
    "{\n",
    "    \"first_name\": \"John\"\n",
    "}\n",
    "'''\n",
    "\n",
    "p6 = Person.model_validate_json(data_json)\n",
    "p6\n"
   ]
  },
  {
   "cell_type": "code",
   "execution_count": 19,
   "metadata": {},
   "outputs": [
    {
     "ename": "ValidationError",
     "evalue": "1 validation error for Person\n  Invalid JSON: expected `:` at line 3 column 6 [type=json_invalid, input_value='\\n{\\n   \"\"first_name\":\"J...mbers\":[1,3,5,7,9]\\n}\\n', input_type=str]\n    For further information visit https://errors.pydantic.dev/2.7/v/json_invalid",
     "output_type": "error",
     "traceback": [
      "\u001b[0;31m---------------------------------------------------------------------------\u001b[0m",
      "\u001b[0;31mValidationError\u001b[0m                           Traceback (most recent call last)",
      "Cell \u001b[0;32mIn[19], line 15\u001b[0m\n\u001b[1;32m      5\u001b[0m     lucky_numbers:\u001b[38;5;28mlist\u001b[39m[\u001b[38;5;28mint\u001b[39m]\n\u001b[1;32m      7\u001b[0m data_json:\u001b[38;5;28mstr\u001b[39m \u001b[38;5;241m=\u001b[39m \u001b[38;5;124m'''\u001b[39m\n\u001b[1;32m      8\u001b[0m \u001b[38;5;124m{\u001b[39m\n\u001b[1;32m      9\u001b[0m \u001b[38;5;124m   \u001b[39m\u001b[38;5;124m\"\u001b[39m\u001b[38;5;124m\"\u001b[39m\u001b[38;5;124mfirst_name\u001b[39m\u001b[38;5;124m\"\u001b[39m\u001b[38;5;124m:\u001b[39m\u001b[38;5;124m\"\u001b[39m\u001b[38;5;124mJohn\u001b[39m\u001b[38;5;124m\"\u001b[39m\u001b[38;5;124m,\u001b[39m\n\u001b[0;32m   (...)\u001b[0m\n\u001b[1;32m     13\u001b[0m \u001b[38;5;124m}\u001b[39m\n\u001b[1;32m     14\u001b[0m \u001b[38;5;124m'''\u001b[39m\n\u001b[0;32m---> 15\u001b[0m P7 \u001b[38;5;241m=\u001b[39m \u001b[43mPerson\u001b[49m\u001b[38;5;241;43m.\u001b[39;49m\u001b[43mmodel_validate_json\u001b[49m\u001b[43m(\u001b[49m\u001b[43mdata_json\u001b[49m\u001b[43m)\u001b[49m\n\u001b[1;32m     16\u001b[0m p7\n",
      "File \u001b[0;32m~/.local/lib/python3.10/site-packages/pydantic/main.py:580\u001b[0m, in \u001b[0;36mBaseModel.model_validate_json\u001b[0;34m(cls, json_data, strict, context)\u001b[0m\n\u001b[1;32m    578\u001b[0m \u001b[38;5;66;03m# `__tracebackhide__` tells pytest and some other tools to omit this function from tracebacks\u001b[39;00m\n\u001b[1;32m    579\u001b[0m __tracebackhide__ \u001b[38;5;241m=\u001b[39m \u001b[38;5;28;01mTrue\u001b[39;00m\n\u001b[0;32m--> 580\u001b[0m \u001b[38;5;28;01mreturn\u001b[39;00m \u001b[38;5;28;43mcls\u001b[39;49m\u001b[38;5;241;43m.\u001b[39;49m\u001b[43m__pydantic_validator__\u001b[49m\u001b[38;5;241;43m.\u001b[39;49m\u001b[43mvalidate_json\u001b[49m\u001b[43m(\u001b[49m\u001b[43mjson_data\u001b[49m\u001b[43m,\u001b[49m\u001b[43m \u001b[49m\u001b[43mstrict\u001b[49m\u001b[38;5;241;43m=\u001b[39;49m\u001b[43mstrict\u001b[49m\u001b[43m,\u001b[49m\u001b[43m \u001b[49m\u001b[43mcontext\u001b[49m\u001b[38;5;241;43m=\u001b[39;49m\u001b[43mcontext\u001b[49m\u001b[43m)\u001b[49m\n",
      "\u001b[0;31mValidationError\u001b[0m: 1 validation error for Person\n  Invalid JSON: expected `:` at line 3 column 6 [type=json_invalid, input_value='\\n{\\n   \"\"first_name\":\"J...mbers\":[1,3,5,7,9]\\n}\\n', input_type=str]\n    For further information visit https://errors.pydantic.dev/2.7/v/json_invalid"
     ]
    }
   ],
   "source": [
    "class Person(BaseModel):\n",
    "    first_name:str #require\n",
    "    last_name:str | None = None #optional\n",
    "    age:int = 18 #optional\n",
    "    lucky_numbers:list[int]\n",
    "    \n",
    "data_json:str = '''\n",
    "{\n",
    "   \"\"first_name\":\"John\",\n",
    "   \"last_name:\"Smith\",\n",
    "   \"age\" =42,\n",
    "   \"lucky_numbers\":[1,3,5,7,9]\n",
    "}\n",
    "'''\n",
    "P7 = Person.model_validate_json(data_json)\n",
    "p7"
   ]
  },
  {
   "cell_type": "code",
   "execution_count": 24,
   "metadata": {},
   "outputs": [
    {
     "ename": "SyntaxError",
     "evalue": "invalid syntax (1435593456.py, line 11)",
     "output_type": "error",
     "traceback": [
      "\u001b[0;36m  Cell \u001b[0;32mIn[24], line 11\u001b[0;36m\u001b[0m\n\u001b[0;31m    Class Person(BaseModel):\u001b[0m\n\u001b[0m          ^\u001b[0m\n\u001b[0;31mSyntaxError\u001b[0m\u001b[0;31m:\u001b[0m invalid syntax\n"
     ]
    }
   ],
   "source": [
    "from pydantic import BaseModel,Field\n",
    "data:str = '''\n",
    "{\n",
    "    \"id\":100,\n",
    "    \"First Name\":\"John\",\n",
    "    \"LASTNAME\":\"Smith\",\n",
    "    \"age in years\":42\n",
    "}\n",
    "'''\n",
    "\n",
    "Class Person(BaseModel):\n",
    "    id_:int = Field(alias='id')\n",
    "    first_name:str = Field(alias='First Name')\n",
    "    last_name:str | None = Field(alias='LASTNAME',default=None)\n",
    "    age:int = Field(alias='age in years',default=18)\n",
    "\n",
    "p8 = Person.model_validate_json(data)\n",
    "p8"
   ]
  },
  {
   "cell_type": "code",
   "execution_count": 36,
   "metadata": {},
   "outputs": [
    {
     "ename": "NameError",
     "evalue": "name 'Field' is not defined",
     "output_type": "error",
     "traceback": [
      "\u001b[0;31m---------------------------------------------------------------------------\u001b[0m",
      "\u001b[0;31mNameError\u001b[0m                                 Traceback (most recent call last)",
      "Cell \u001b[0;32mIn[36], line 23\u001b[0m\n\u001b[1;32m     20\u001b[0m     place:Place\n\u001b[1;32m     21\u001b[0m     date:\u001b[38;5;28mstr\u001b[39m\n\u001b[0;32m---> 23\u001b[0m \u001b[38;5;28;01mclass\u001b[39;00m \u001b[38;5;21;01mPerson\u001b[39;00m(BaseModel):\n\u001b[1;32m     24\u001b[0m     first_name:\u001b[38;5;28mstr\u001b[39m \u001b[38;5;241m=\u001b[39m Field(alias\u001b[38;5;241m=\u001b[39m\u001b[38;5;124m'\u001b[39m\u001b[38;5;124mfirstName\u001b[39m\u001b[38;5;124m'\u001b[39m)\n\u001b[1;32m     25\u001b[0m     last_name:\u001b[38;5;28mstr\u001b[39m \u001b[38;5;241m=\u001b[39m Field(alias\u001b[38;5;241m=\u001b[39m\u001b[38;5;124m'\u001b[39m\u001b[38;5;124mlastName\u001b[39m\u001b[38;5;124m'\u001b[39m)\n",
      "Cell \u001b[0;32mIn[36], line 24\u001b[0m, in \u001b[0;36mPerson\u001b[0;34m()\u001b[0m\n\u001b[1;32m     23\u001b[0m \u001b[38;5;28;01mclass\u001b[39;00m \u001b[38;5;21;01mPerson\u001b[39;00m(BaseModel):\n\u001b[0;32m---> 24\u001b[0m     first_name:\u001b[38;5;28mstr\u001b[39m \u001b[38;5;241m=\u001b[39m \u001b[43mField\u001b[49m(alias\u001b[38;5;241m=\u001b[39m\u001b[38;5;124m'\u001b[39m\u001b[38;5;124mfirstName\u001b[39m\u001b[38;5;124m'\u001b[39m)\n\u001b[1;32m     25\u001b[0m     last_name:\u001b[38;5;28mstr\u001b[39m \u001b[38;5;241m=\u001b[39m Field(alias\u001b[38;5;241m=\u001b[39m\u001b[38;5;124m'\u001b[39m\u001b[38;5;124mlastName\u001b[39m\u001b[38;5;124m'\u001b[39m)\n\u001b[1;32m     26\u001b[0m     born:Born\n",
      "\u001b[0;31mNameError\u001b[0m: name 'Field' is not defined"
     ]
    }
   ],
   "source": [
    "data = '''\n",
    "{\n",
    "    \"firstName\":\"Arthur\",\n",
    "    \"lastName\":\"Clarke\",\n",
    "    \"born\":{\n",
    "        \"place\":{\n",
    "            \"country\":\"Lunar Colony\",\n",
    "            \"city\":\"Central City\"\n",
    "        },\n",
    "        \"date\":\"2001-01-01\"\n",
    "    }\n",
    "}\n",
    "'''\n",
    "\n",
    "class Place(BaseModel):\n",
    "    country:str\n",
    "    city:str\n",
    "\n",
    "class Born(BaseModel):\n",
    "    place:Place\n",
    "    date:str\n",
    "\n",
    "class Person(BaseModel):\n",
    "    first_name:str = Field(alias='firstName')\n",
    "    last_name:str = Field(alias='lastName')\n",
    "    born:Born\n",
    "\n",
    "p9 = Person.model_validate_json(data)\n",
    "print(p9)\n",
    "p9.born.place.city\n",
    "p9.born.plase.country\n"
   ]
  }
 ],
 "metadata": {
  "kernelspec": {
   "display_name": "Python 3",
   "language": "python",
   "name": "python3"
  },
  "language_info": {
   "codemirror_mode": {
    "name": "ipython",
    "version": 3
   },
   "file_extension": ".py",
   "mimetype": "text/x-python",
   "name": "python",
   "nbconvert_exporter": "python",
   "pygments_lexer": "ipython3",
   "version": "3.10.14"
  }
 },
 "nbformat": 4,
 "nbformat_minor": 2
}
