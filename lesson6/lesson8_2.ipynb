{
 "cells": [
  {
   "cell_type": "code",
   "execution_count": null,
   "metadata": {},
   "outputs": [],
   "source": []
  },
  {
   "cell_type": "code",
   "execution_count": 3,
   "metadata": {},
   "outputs": [],
   "source": [
    "from dataclasses import dataclass\n",
    "\n",
    "@dataclass\n",
    "class Student:\n",
    "    name:str\n",
    "    chinese:int\n",
    "    english:int\n",
    "    math:int\n",
    "    \n",
    "    @property\n",
    "    def sum(self)->int:\n",
    "        return self.chinese + self.english + self.math\n",
    "    \n",
    "    def average(self)->float:\n",
    "        return round(self.sum / 3,ndigits=2)\n",
    "    "
   ]
  },
  {
   "cell_type": "code",
   "execution_count": 3,
   "metadata": {},
   "outputs": [],
   "source": [
    "class BMIField:\n",
    "        def __init__(self, name, weight, height):\n",
    "            self.name = name\n",
    "            self.weight = weight\n",
    "            self.height = height\n",
    "            \n",
    "        @property\n",
    "        def bmi(self):\n",
    "            height_in_meters = self.height/100\n",
    "            bmi_value = self.weight/(height_in_meters**2)\n",
    "            return bmi_value\n",
    "        \n",
    "        def status(self):\n",
    "             \n",
    "            bmi_value = self.bmi\n",
    "            if bmi_value<18.5:\n",
    "                return\"過輕\"\n",
    "            elif 18.5<= bmi_value<24:\n",
    "                return\"正常\"\n",
    "            elif 24<= bmi_value<27:\n",
    "                return\"過重\"\n",
    "            else:\n",
    "                return\"肥胖\"\n",
    "             \n",
    "            "
   ]
  },
  {
   "cell_type": "code",
   "execution_count": 2,
   "metadata": {},
   "outputs": [
    {
     "name": "stdout",
     "output_type": "stream",
     "text": [
      "徐國堂\n",
      "96\n",
      "90\n",
      "89\n"
     ]
    }
   ],
   "source": [
    "s1 = Student(\"徐國堂\",math=89,english=90,chinese=96)\n",
    "print(s1.name)\n",
    "print(s1.chinese)\n",
    "print(s1.english)\n",
    "print(s1.math)"
   ]
  }
 ],
 "metadata": {
  "kernelspec": {
   "display_name": "Python 3",
   "language": "python",
   "name": "python3"
  },
  "language_info": {
   "codemirror_mode": {
    "name": "ipython",
    "version": 3
   },
   "file_extension": ".py",
   "mimetype": "text/x-python",
   "name": "python",
   "nbconvert_exporter": "python",
   "pygments_lexer": "ipython3",
   "version": "3.10.14"
  }
 },
 "nbformat": 4,
 "nbformat_minor": 2
}
