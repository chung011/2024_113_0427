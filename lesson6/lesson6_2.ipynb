{
 "cells": [
  {
   "cell_type": "code",
   "execution_count": null,
   "metadata": {
    "vscode": {
     "languageId": "plaintext"
    }
   },
   "outputs": [],
   "source": [
    "scores = 89\n",
    "if scores < 60:\n",
    "    print(\"分數小於60\")\n",
    "elif scores < 80:\n",
    "    print(分數小於80)"
   ]
  },
  {
   "cell_type": "code",
   "execution_count": null,
   "metadata": {
    "vscode": {
     "languageId": "plaintext"
    }
   },
   "outputs": [],
   "source": [
    "name = (input(\"請輸入姓名:\"))\n",
    "    print(\"name\")\n",
    "hight = int(input(\"請輸入身高:\"))\n",
    "weight = int (input(\"請輸入體重:\"))\n",
    "BMI = weight/hight**2\n",
    "BMI = 18.5\n",
    "if BMI < 18.5\n",
    "    print(\"體重過輕\")\n",
    "else BMI >=18.5 and < 24\n",
    "    print (\"體重正常\")\n",
    "elif BMI >= 24 and < 27\n",
    "    print (\"體重過重\")\n",
    "elif BMI >= 27 and < 30\n",
    "    print (\"輕度肥胖\")\n",
    "elif BMI >= 30 and < 35\n",
    "    print (\"中度肥胖\")\n",
    "elif BMI >= 35\n",
    "    print (\"重度肥胖\")"
   ]
  }
 ],
 "metadata": {
  "language_info": {
   "name": "python"
  }
 },
 "nbformat": 4,
 "nbformat_minor": 2
}
