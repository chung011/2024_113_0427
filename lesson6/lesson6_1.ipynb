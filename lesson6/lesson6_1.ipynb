{
 "cells": [
  {
   "cell_type": "code",
   "execution_count": 39,
   "metadata": {},
   "outputs": [
    {
     "name": "stdout",
     "output_type": "stream",
     "text": [
      "不可以投票\n",
      "不可以考駕照\n",
      "應用程式結束\n"
     ]
    }
   ],
   "source": [
    "age = 17\n",
    "if age >= 18:\n",
    "     print(\"可以投票\")\n",
    "     print(\"可以考駕照\")\n",
    "    \n",
    "else:\n",
    "     print(\"不可以投票\")\n",
    "     print(\"不可以考駕照\")\n",
    "     \n",
    "print(\"應用程式結束\")    \n",
    "     \n",
    "    "
   ]
  },
  {
   "cell_type": "code",
   "execution_count": 40,
   "metadata": {},
   "outputs": [
    {
     "ename": "ValueError",
     "evalue": "invalid literal for int() with base 10: ''",
     "output_type": "error",
     "traceback": [
      "\u001b[0;31m---------------------------------------------------------------------------\u001b[0m",
      "\u001b[0;31mValueError\u001b[0m                                Traceback (most recent call last)",
      "Cell \u001b[0;32mIn[40], line 1\u001b[0m\n\u001b[0;32m----> 1\u001b[0m scores \u001b[38;5;241m=\u001b[39m \u001b[38;5;28;43mint\u001b[39;49m\u001b[43m(\u001b[49m\u001b[38;5;28;43minput\u001b[39;49m\u001b[43m(\u001b[49m\u001b[38;5;124;43m\"\u001b[39;49m\u001b[38;5;124;43m請輸入學生分數(最高300):\u001b[39;49m\u001b[38;5;124;43m\"\u001b[39;49m\u001b[43m)\u001b[49m\u001b[43m)\u001b[49m\n\u001b[1;32m      2\u001b[0m is_add \u001b[38;5;241m=\u001b[39m \u001b[38;5;28minput\u001b[39m(\u001b[38;5;124m\"\u001b[39m\u001b[38;5;124m學生是否符合加分條件?(y,n)\u001b[39m\u001b[38;5;124m\"\u001b[39m)\n\u001b[1;32m      4\u001b[0m \u001b[38;5;28;01mif\u001b[39;00m is_add \u001b[38;5;241m==\u001b[39m \u001b[38;5;124m'\u001b[39m\u001b[38;5;124my\u001b[39m\u001b[38;5;124m'\u001b[39m:\n",
      "\u001b[0;31mValueError\u001b[0m: invalid literal for int() with base 10: ''"
     ]
    }
   ],
   "source": [
    "scores = int(input(\"請輸入學生分數(最高300):\"))\n",
    "is_add = input(\"學生是否符合加分條件?(y,n)\")\n",
    "\n",
    "if is_add == 'y':\n",
    "       scores = scores * 1.05\n",
    "       scores *= 1.05\n",
    "       if scores > 300:\n",
    "           scores = 300\n",
    "\n",
    "print(\"目前學生分數\",round(scores))\n"
   ]
  },
  {
   "cell_type": "code",
   "execution_count": null,
   "metadata": {},
   "outputs": [
    {
     "name": "stdout",
     "output_type": "stream",
     "text": [
      "格式錯誤\n",
      "應用程式結束\n"
     ]
    }
   ],
   "source": [
    "try:\n",
    "    scores = int(input(\"請輸入學生分數(最高300):\"))\n",
    "except:\n",
    "    print(\"格式錯誤\")\n",
    "else:\n",
    "    if not (scores <= 300 and scores >= 0):\n",
    "        print(\"輸入分數超過300或小於0\")  \n",
    "    else: \n",
    "        is_add = input(\"學生是否符合加分條件?(y,n)\")\n",
    "    \n",
    "        if is_add == 'y':\n",
    "           #scores = scores * 1.05\n",
    "            scores *= 1.05\n",
    "            if scores > 300:\n",
    "                scores = 300\n",
    "\n",
    "        print(\"目前學生分數\",round(scores))\n",
    "         \n",
    "print (\"應用程式結束\")\n"
   ]
  },
  {
   "cell_type": "code",
   "execution_count": null,
   "metadata": {},
   "outputs": [
    {
     "name": "stdout",
     "output_type": "stream",
     "text": [
      "分數大於等於80\n"
     ]
    }
   ],
   "source": [
    "score = 89\n",
    "if score < 60:\n",
    "    print(\"分數小於60\")\n",
    "\n",
    "if score >=80:\n",
    "    print(\"分數大於等於80\")\n",
    "\n"
   ]
  },
  {
   "cell_type": "code",
   "execution_count": null,
   "metadata": {},
   "outputs": [
    {
     "name": "stdout",
     "output_type": "stream",
     "text": [
      "分數60至79分\n"
     ]
    }
   ],
   "source": [
    "score = 75\n",
    "if score >= 60:\n",
    "    if score < 80:\n",
    "        print(\"分數60至79分\")"
   ]
  },
  {
   "cell_type": "code",
   "execution_count": null,
   "metadata": {},
   "outputs": [
    {
     "name": "stdout",
     "output_type": "stream",
     "text": [
      "分數60至79分\n"
     ]
    }
   ],
   "source": [
    "score = 75\n",
    "if score >= 60 and score < 80:\n",
    "    print(\"分數60至79分\")"
   ]
  },
  {
   "cell_type": "code",
   "execution_count": 38,
   "metadata": {},
   "outputs": [
    {
     "ename": "SyntaxError",
     "evalue": "expected ':' (2098458303.py, line 6)",
     "output_type": "error",
     "traceback": [
      "\u001b[0;36m  Cell \u001b[0;32mIn[38], line 6\u001b[0;36m\u001b[0m\n\u001b[0;31m    if BMI < 18.5\u001b[0m\n\u001b[0m                 ^\u001b[0m\n\u001b[0;31mSyntaxError\u001b[0m\u001b[0;31m:\u001b[0m expected ':'\n"
     ]
    }
   ],
   "source": [
    "name = str(input(\"請輸入姓名:\"))\n",
    "print(\"name\")\n",
    "hight = int(input(\"請輸入身高:\"))\n",
    "weight = int (input(\"請輸入體重:\"))\n",
    "BMI = weight/hight**2\n",
    "if BMI < 18.5\n",
    "print(\"體重過輕\")\n",
    "else BMI >=18.5 and < 24\n",
    "print (\"體重正常\")\n",
    "elif BMI >= 24 and < 27\n",
    "print (\"體重過重\")\n",
    "elif BMI >= 27 and < 30\n",
    "print (\"輕度肥胖\")\n",
    "elif BMI >= 30 and < 35\n",
    "print (\"中度肥胖\")\n",
    "elif BMI >= 35\n",
    "print (\"重度肥胖\")\n"
   ]
  }
 ],
 "metadata": {
  "kernelspec": {
   "display_name": "Python 3",
   "language": "python",
   "name": "python3"
  },
  "language_info": {
   "codemirror_mode": {
    "name": "ipython",
    "version": 3
   },
   "file_extension": ".py",
   "mimetype": "text/x-python",
   "name": "python",
   "nbconvert_exporter": "python",
   "pygments_lexer": "ipython3",
   "version": "3.10.14"
  }
 },
 "nbformat": 4,
 "nbformat_minor": 2
}
