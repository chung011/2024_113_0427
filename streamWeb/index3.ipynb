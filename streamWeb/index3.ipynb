{
 "cells": [
  {
   "cell_type": "code",
   "execution_count": 2,
   "metadata": {},
   "outputs": [
    {
     "data": {
      "text/plain": [
       "array([[ 6.88379833e-01,  1.29484876e-02,  1.32871071e+00],\n",
       "       [-4.94223653e-01, -7.87171778e-02, -1.38197658e+00],\n",
       "       [-1.84475223e+00, -1.80492833e+00, -1.83895402e+00],\n",
       "       [-4.71413887e-01,  3.36051952e-01,  8.51199182e-01],\n",
       "       [ 2.16295789e-01,  1.51452888e-01,  5.94689168e-01],\n",
       "       [ 2.35629641e-01,  4.71090761e-01, -4.91943810e-01],\n",
       "       [-1.75254503e+00,  1.03943125e+00,  1.39092660e+00],\n",
       "       [ 7.64010740e-01, -5.65046866e-01, -1.66204052e+00],\n",
       "       [ 4.50153034e-01, -9.19119217e-01, -1.99204058e-01],\n",
       "       [-3.72433431e-01, -9.58215310e-01, -8.29580851e-01],\n",
       "       [ 9.96511977e-01,  1.13507815e-01, -1.86155281e-01],\n",
       "       [-5.79977544e-01,  6.68969248e-01,  1.09778387e+00],\n",
       "       [-8.51761053e-01, -4.00549345e-01, -6.06423967e-02],\n",
       "       [-1.66849585e-01,  9.15141224e-01,  4.10093555e-01],\n",
       "       [-5.68627263e-01,  1.71866825e-01, -1.04333963e+00],\n",
       "       [ 8.84709839e-01,  2.56047991e-01, -3.99045958e-01],\n",
       "       [-4.30627113e-01,  6.08263110e-01,  3.33952398e-01],\n",
       "       [-1.14886309e+00,  1.53835509e-01, -6.59538395e-01],\n",
       "       [ 9.32797983e-01,  9.81059214e-01,  4.91837254e-01],\n",
       "       [-1.67457580e+00,  6.50767032e-01,  4.72460283e-01],\n",
       "       [ 4.98339235e-01, -6.98044731e-01,  7.04891624e-01],\n",
       "       [-2.81068371e-01, -3.20125676e-01, -1.04519827e-01],\n",
       "       [-1.21411996e+00,  2.02269248e+00,  1.20955129e+00],\n",
       "       [-8.32273160e-01,  2.13217477e+00,  7.82767271e-01],\n",
       "       [ 1.30502065e+00,  1.70916564e-01,  2.74398552e-01],\n",
       "       [ 5.57838192e-01,  7.27397644e-01,  1.42109460e-01],\n",
       "       [ 9.79260950e-01,  5.10487372e-01,  6.94518539e-01],\n",
       "       [ 7.53750568e-01, -1.09203170e+00,  3.59245120e-01],\n",
       "       [ 9.67251832e-04,  1.93870279e-01,  1.24197434e-01],\n",
       "       [ 2.79633287e-01,  1.46355442e+00, -2.76320557e-01],\n",
       "       [ 1.57234351e+00, -4.22860826e-01,  1.49232564e+00],\n",
       "       [ 5.48756193e-01, -1.68920799e+00, -5.14677629e-01],\n",
       "       [-3.70368346e-01,  1.65665747e+00, -9.63735162e-01],\n",
       "       [-1.54608701e+00, -4.52537938e-01,  1.40346878e+00],\n",
       "       [-6.33251305e-01,  3.22274869e-01, -1.47113435e-01],\n",
       "       [ 2.38717553e+00, -6.38866259e-01, -1.61845956e-01],\n",
       "       [ 1.49701760e-01, -1.84254308e+00,  2.29360676e-01],\n",
       "       [-1.66740168e+00,  1.80797217e-01, -5.34304280e-01],\n",
       "       [ 4.82268578e-01, -4.62957518e-01,  7.55924381e-01],\n",
       "       [ 9.01599163e-01, -3.42625574e-01,  3.95681428e-01],\n",
       "       [ 3.34783692e-01,  1.38574017e+00,  1.10786656e+00],\n",
       "       [ 8.80642106e-01, -1.47088941e+00,  4.26317984e-01],\n",
       "       [-7.78425536e-01,  3.81140098e-01,  5.97384942e-02],\n",
       "       [ 1.74670446e-01,  2.21157840e-01,  1.89507747e+00],\n",
       "       [ 1.14983887e+00,  1.35812350e-01,  2.22291684e-01],\n",
       "       [-1.56546255e+00,  1.01568487e+00, -9.88360184e-01],\n",
       "       [ 1.46764774e+00,  1.75658691e+00, -1.46076994e+00],\n",
       "       [ 9.27473040e-01, -1.21470664e+00,  1.20041704e-01],\n",
       "       [ 1.93411508e+00, -7.36219271e-01,  1.43258061e+00],\n",
       "       [-4.38137607e-01,  8.89861101e-02, -1.07739880e+00]])"
      ]
     },
     "execution_count": 2,
     "metadata": {},
     "output_type": "execute_result"
    },
    {
     "name": "stderr",
     "output_type": "stream",
     "text": [
      "Bad pipe message: %s [b'\"Microsoft Edge\";v=\"125\", \"Chromium\";v=\"125\", \"Not.A/Bran']\n",
      "Bad pipe message: %s [b';v=\"24\"\\r\\nsec-ch-ua-mobile: ?0\\r\\nsec-ch-ua-platform: \"Windows\"\\r\\nUpgrade-Insecure-Requests: 1\\r\\nUser-Ag']\n",
      "Bad pipe message: %s [b't: Mozilla/5.0 (Windows NT 10.0; Win64; x64) AppleWebKit/537.36 (KHTML, like Gecko) Chrome/125.0.0.0']\n",
      "Bad pipe message: %s [b'afari/537.36 Edg/125.0.0.0\\r\\nAcc', b't: text/html,application/xhtml+xml,application/xml;q=0.9,image/avif,image/webp,image/apng,*/*;q=0.8,']\n",
      "Bad pipe message: %s [b'plication/signed-exchange;v=b3;q=0.7\\r\\nSec-Fetch-Site: none\\r\\nSec-Fetch-Mode: navigate\\r\\nSec-Fetch-']\n",
      "Bad pipe message: %s [b'er: ?1\\r\\nSec-Fetch-Dest: document\\r\\nAccept-Encoding: gzip, deflate, br, zstd\\r\\nAccept-L', b'guage: zh-TW,zh;q=0.9,en;q=0.8,en-GB;q=0.7,en-US;q=0.6\\r\\nCookie: ajs_anonymous_id=4f8b6a51-0410-4']\n",
      "Bad pipe message: %s [b'ol: max-age=0\\r\\nsec-ch-ua: \"Microsoft Edge\";v=\"125\", \"Chromium\";v=\"125\", \"Not.A/Brand\";v=\"24\"\\r\\nsec-ch-ua-mobile: ?0\\r']\n",
      "Bad pipe message: %s [b'ec-ch-ua-', b'atform: \"Windows\"\\r\\nUpgrade-Insecure-Requests: 1\\r\\nUser-Agent: Mozilla/5.0 (Windows NT 10.0; Win64; x64) AppleWeb']\n",
      "Bad pipe message: %s [b't/537.36 (KHTML, like Gecko) Chrome/125.0.0.0 Safari/537.36 Edg/125.0.0.0\\r', b'ccept: te', b'/html,application/xhtml+xml,application/xml;q=0.9,image/avif,image/webp,image/apng,*/*;q=0.8,application/signed-exchang']\n",
      "Bad pipe message: %s [b'v=b3;q=0.7\\r\\nSec-Fetch-Site: none\\r\\nSec-Fetch-Mode: navigate\\r\\nSec-Fetch-User: ?1\\r\\nSec-Fetch-Dest: docu', b'nt\\r\\nAccept-Encoding: gzip, deflate, br, zstd\\r\\nAccept-Language: zh-TW,zh;q=0.9,en;q=0.8,en-GB;q=0.7,en-US;q=0', b'\\r\\nCookie: ajs_anonymous_id=4f8b6a51-0410-4c9f']\n"
     ]
    }
   ],
   "source": [
    "import numpy as np\n",
    "\n",
    "np.random.randn(50,3)"
   ]
  }
 ],
 "metadata": {
  "kernelspec": {
   "display_name": "Python 3",
   "language": "python",
   "name": "python3"
  },
  "language_info": {
   "codemirror_mode": {
    "name": "ipython",
    "version": 3
   },
   "file_extension": ".py",
   "mimetype": "text/x-python",
   "name": "python",
   "nbconvert_exporter": "python",
   "pygments_lexer": "ipython3",
   "version": "3.10.14"
  }
 },
 "nbformat": 4,
 "nbformat_minor": 2
}
