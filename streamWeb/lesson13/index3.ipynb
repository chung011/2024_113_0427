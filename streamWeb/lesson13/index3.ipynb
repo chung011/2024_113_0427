{
 "cells": [
  {
   "cell_type": "code",
   "execution_count": null,
   "metadata": {},
   "outputs": [],
   "source": [
    "import source\n",
    "from source import Root\n",
    "data_str = source.download_youbike()\n",
    "root = Root.model_validate_json(data_str)\n",
    "data = root.model_dump()\n",
    "\n",
    "#def get_sarea(value:dict)->str:\n",
    "#    return value['行政區']\n",
    "\n",
    "list(set(map(lambda value:value['行政區'],data)))\n",
    "['五股區',\n",
    " '深坑區',\n",
    " '石碇區',\n",
    " '泰山區',\n",
    " '八里區',\n",
    " '汐止區',\n",
    " '瑞芳區',\n",
    " '萬里區',\n",
    " '坪林區',\n",
    " '三重區',\n",
    " '永和區',\n",
    " '林口區',\n",
    " '新店區',\n",
    " '中和區',\n",
    " '土城區',\n",
    " '淡水區',\n",
    " '板橋區',\n",
    " '三峽區',\n",
    " '三芝區',\n",
    " '石門區',\n",
    " '金山區']"
   ]
  }
 ],
 "metadata": {
  "language_info": {
   "name": "python"
  }
 },
 "nbformat": 4,
 "nbformat_minor": 2
}
